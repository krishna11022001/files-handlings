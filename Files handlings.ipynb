{
  "nbformat": 4,
  "nbformat_minor": 0,
  "metadata": {
    "colab": {
      "provenance": []
    },
    "kernelspec": {
      "name": "python3",
      "display_name": "Python 3"
    },
    "language_info": {
      "name": "python"
    }
  },
  "cells": [
    {
      "cell_type": "markdown",
      "source": [
        "1. What is the difference between interpreted and compiled languages?\n",
        " - Interpreted languages execute code line-by-line using an interpreter at runtime, making them easier to debug and suitable for scripting (e.g., Python, JavaScript). Compiled languages, on the other hand, are translated entirely into machine code before execution using a compiler (e.g., C, C++), which makes them faster and more efficient, but less flexible during development.\n",
        "\n",
        "2. What is exception handling in Python?\n",
        " - Exception handling in Python is a way to manage errors or unexpected events that may occur during the execution of a program. It uses blocks like try, except, else, and finally to catch exceptions and allow the program to respond gracefully rather than crashing.\n",
        "\n",
        "3. What is the purpose of the finally block in exception handling?\n",
        " - The finally block in Python is used to define code that should run no matter what happens in the try block—whether an exception occurs or not. It is commonly used for cleanup actions such as closing a file or releasing system resources, ensuring they are executed regardless of how the try block exits.\n",
        "\n",
        "4. What is logging in Python?\n",
        " - Logging in Python is the practice of recording events, messages, or errors from a program’s execution to help developers monitor and debug applications. Python’s logging module provides a flexible way to log information at different severity levels like DEBUG, INFO, WARNING, ERROR, and CRITICAL, and it can be configured to log to the console, files, or other outputs.\n",
        "\n",
        "5. What is the significance of the __del__ method in Python?\n",
        " - The __del__ method is a special method in Python known as a destructor. It is automatically called when an object is about to be destroyed or garbage-collected. It is often used to clean up external resources like files or network connections when an object is no longer in use.\n",
        "\n",
        "6. What is the difference between import and from ... import in Python?\n",
        " - The import statement imports the entire module, requiring you to prefix functions or variables with the module name (e.g., math.sqrt()). The from ... import statement allows you to import specific components from a module, letting you use them directly without the module prefix (e.g., sqrt()).\n",
        "\n",
        "7. How can you handle multiple exceptions in Python?\n",
        " - In Python, multiple exceptions can be handled either by writing separate except blocks for each exception type or by grouping multiple exceptions in a single except block using a tuple. This provides flexibility to respond differently to various error types or handle several related exceptions with the same logic.\n",
        "\n",
        "8. What is the purpose of the with statement when handling files in Python?\n",
        " - The with statement is used in Python to simplify file handling and ensure that files are properly closed after use. When working with files, with automatically takes care of opening and closing the file, even if an error occurs during reading or writing, making the code cleaner and more reliable.\n",
        "\n",
        "9. What is the difference between multithreading and multiprocessing?\n",
        " - Multithreading involves running multiple threads within a single process that share the same memory space, making it useful for I/O-bound tasks. Multiprocessing runs multiple separate processes, each with its own memory space, and is better suited for CPU-bound tasks that require heavy computation without interference.\n",
        "\n",
        "10. What are the advantages of using logging in a program?\n",
        " - Logging provides several advantages in software development. It allows developers to trace the flow of execution, monitor application behavior, and identify issues. Unlike simple print statements, logging supports different severity levels, can be redirected to files or servers, and is more efficient and configurable for use in production environments.\n",
        "\n",
        "11. What is memory management in Python?\n",
        " - Memory management in Python is automatic and handled through a combination of reference counting and garbage collection. Python tracks how many references exist to each object, and when that count drops to zero, the memory is reclaimed. The garbage collector also handles cyclic references to ensure memory is efficiently used and freed when no longer needed.\n",
        "1. What are the basic steps involved in exception handling in Python?\n",
        " - Exception handling in Python involves a few key steps. First, code that may raise an exception is placed within a try block. If an exception occurs, Python searches for a matching except block to handle it. Optionally, an else block can run if no exceptions are raised, and a finally block can be added to ensure that cleanup code executes regardless of whether an exception occurred or not.\n",
        "\n",
        "2. Why is memory management important in Python?\n",
        " - Memory management is crucial in Python to ensure efficient use of system resources. Proper memory handling prevents memory leaks, improves performance, and ensures that objects no longer in use are released promptly. Since Python is used for large-scale applications and data processing, automated memory management helps keep programs running smoothly without manual intervention.\n",
        "\n",
        "3. What is the role of try and except in exception handling?\n",
        " - The try and except blocks are fundamental to Python’s exception handling mechanism. The try block contains code that might raise an exception, while the except block defines how to respond to specific exceptions if they occur. This structure helps developers manage errors gracefully and keep programs running without crashing.\n",
        "\n",
        "4. How does Python's garbage collection system work?\n",
        " - Python's garbage collection system works primarily through reference counting. Each object in memory has a reference count that increases when the object is referenced and decreases when references are deleted. When the count drops to zero, the object is automatically deleted. Python also has a built-in garbage collector (gc module) to handle cyclic references—objects referencing each other—which reference counting alone cannot resolve.\n",
        "\n",
        "5. What is the purpose of the else block in exception handling?\n",
        " - The else block in Python exception handling is optional and runs only if no exceptions were raised in the try block. It is useful for placing code that should execute only when the try block completes successfully, helping to separate normal logic from error-handling logic.\n",
        "\n",
        "6. What are the common logging levels in Python?\n",
        " - Python’s logging module supports several predefined levels that indicate the severity of events. The most common logging levels, in order of increasing severity, are: DEBUG (detailed information for diagnostics), INFO (general events), WARNING (something unexpected, but not an error), ERROR (a more serious problem), and CRITICAL (a very serious error that may stop the program).\n",
        "\n",
        "7. What is the difference between os.fork() and multiprocessing in Python?\n",
        " - The os.fork() function creates a child process by duplicating the current process. It’s Unix-specific and requires manual process control. In contrast, the multiprocessing module provides a platform-independent API for creating and managing multiple processes, including communication between them. It is more flexible and user-friendly, especially for developers unfamiliar with low-level process control.\n",
        "\n",
        "8. What is the importance of closing a file in Python?\n",
        " - Closing a file in Python is important to free system resources, ensure that data is written to disk, and prevent file corruption. When a file is open, it uses memory and possibly locks the file from other processes. Using file.close() or the with statement ensures that files are properly closed after use.\n",
        "\n",
        "9. What is the difference between file.read() and file.readline() in Python?\n",
        " - The file.read() method reads the entire contents of a file into a single string, which can be memory-intensive for large files. On the other hand, file.readline() reads one line at a time, making it more efficient for processing files line-by-line, especially when dealing with large text files.\n",
        "\n",
        "10. What is the logging module in Python used for?\n",
        " - The logging module in Python is used to track events that happen while the program runs. It allows developers to record messages about program execution at different severity levels and send logs to various outputs like console, files, or external systems. This helps in debugging, performance monitoring, and error tracking in both development and production environments.\n",
        "\n",
        "11. What is the os module in Python used for in file handling?\n",
        " - The os module in Python provides a way to interact with the operating system. In file handling, it is commonly used to perform tasks like checking if a file exists, getting file paths, deleting or renaming files, creating directories, and navigating the file system. It adds powerful control over file and directory operations.\n",
        "\n",
        "12. What are the challenges associated with memory management in Python?\n",
        " - Challenges in Python’s memory management include handling circular references, memory leaks from long-living objects, and high memory usage in large-scale applications. Although Python automates most of the memory handling, developers still need to be cautious with data structures, third-party libraries, and reference cycles that can prevent proper garbage collection.\n",
        "\n",
        "13. How do you raise an exception manually in Python?\n",
        " - To raise an exception manually in Python, the raise keyword is used followed by the exception type. For example, raise ValueError(\"Invalid input\") will raise a ValueError with a custom message. This is helpful when you want to signal that something went wrong according to custom logic or business rules in your program.\n",
        "\n",
        "14. Why is it important to use multithreading in certain applications?\n",
        " - Multithreading is important in applications that involve I/O-bound tasks such as file operations, network calls, or user interaction. It allows a program to run multiple threads concurrently, improving responsiveness and performance without blocking the entire application. This is especially useful in real-time systems, GUI applications, or servers handling many clients."
      ],
      "metadata": {
        "id": "--YfT9wFdWh7"
      }
    },
    {
      "cell_type": "markdown",
      "source": [
        "Practical Questions"
      ],
      "metadata": {
        "id": "WhtlRlAKfz0P"
      }
    },
    {
      "cell_type": "markdown",
      "source": [
        "1. How can you open a file for writing in Python and write a string to it?"
      ],
      "metadata": {
        "id": "j5xnNp7uf3D8"
      }
    },
    {
      "cell_type": "code",
      "execution_count": 1,
      "metadata": {
        "id": "AJB6LZqpdVcN"
      },
      "outputs": [],
      "source": [
        "with open(\"example.txt\", \"w\") as file:\n",
        "    file.write(\"Hello, this is a sample text.\")\n"
      ]
    },
    {
      "cell_type": "markdown",
      "source": [
        "2. Write a Python program to read the contents of a file and print each line?"
      ],
      "metadata": {
        "id": "NGOZQxvFgInV"
      }
    },
    {
      "cell_type": "code",
      "source": [
        "with open(\"example.txt\", \"r\") as file:\n",
        "    for line in file:\n",
        "        print(line.strip())\n"
      ],
      "metadata": {
        "colab": {
          "base_uri": "https://localhost:8080/"
        },
        "id": "MRwM3uLvgFJ-",
        "outputId": "c288dbc8-3421-4a37-fd3d-b9b24dec5cd0"
      },
      "execution_count": 2,
      "outputs": [
        {
          "output_type": "stream",
          "name": "stdout",
          "text": [
            "Hello, this is a sample text.\n"
          ]
        }
      ]
    },
    {
      "cell_type": "markdown",
      "source": [
        "3. How would you handle a case where the file doesn't exist while trying to open it for reading?"
      ],
      "metadata": {
        "id": "fJJulYVCgZBK"
      }
    },
    {
      "cell_type": "code",
      "source": [
        "try:\n",
        "    with open(\"example.txt\", \"r\") as file:\n",
        "        for line in file:\n",
        "            print(line.strip())\n",
        "except FileNotFoundError:\n",
        "    print(\"Error: The file does not exist.\")\n"
      ],
      "metadata": {
        "colab": {
          "base_uri": "https://localhost:8080/"
        },
        "id": "mUxJ2o1VgYNM",
        "outputId": "164fe8f2-d062-4b67-e603-5a0c2ad8a9d1"
      },
      "execution_count": 3,
      "outputs": [
        {
          "output_type": "stream",
          "name": "stdout",
          "text": [
            "Hello, this is a sample text.\n"
          ]
        }
      ]
    },
    {
      "cell_type": "markdown",
      "source": [
        "4. Write a Python script that reads from one file and writes its content to another file?"
      ],
      "metadata": {
        "id": "gOkOuc2UgrHg"
      }
    },
    {
      "cell_type": "code",
      "source": [
        "try:\n",
        "    with open(\"source.txt\", \"r\") as source_file:\n",
        "        content = source_file.read()\n",
        "\n",
        "    with open(\"destination.txt\", \"w\") as destination_file:\n",
        "        destination_file.write(content)\n",
        "\n",
        "    print(\"File copied successfully.\")\n",
        "\n",
        "except FileNotFoundError:\n",
        "    print(\"Error: The source file does not exist.\")\n"
      ],
      "metadata": {
        "colab": {
          "base_uri": "https://localhost:8080/"
        },
        "id": "2WKOL3gwgl6G",
        "outputId": "c4512198-c560-48e4-8e81-05241ad3e601"
      },
      "execution_count": 4,
      "outputs": [
        {
          "output_type": "stream",
          "name": "stdout",
          "text": [
            "Error: The source file does not exist.\n"
          ]
        }
      ]
    },
    {
      "cell_type": "markdown",
      "source": [
        "5.  How would you catch and handle division by zero error in Python?"
      ],
      "metadata": {
        "id": "5n2zIY5gg5w0"
      }
    },
    {
      "cell_type": "code",
      "source": [
        "try:\n",
        "    numerator = 10\n",
        "    denominator = 0\n",
        "    result = numerator / denominator\n",
        "    print(\"Result:\", result)\n",
        "except ZeroDivisionError:\n",
        "    print(\"Error: Division by zero is not allowed.\")\n"
      ],
      "metadata": {
        "colab": {
          "base_uri": "https://localhost:8080/"
        },
        "id": "ltLdccr8g4_X",
        "outputId": "4534b845-9a97-4377-ccd4-d97c5710f93e"
      },
      "execution_count": 5,
      "outputs": [
        {
          "output_type": "stream",
          "name": "stdout",
          "text": [
            "Error: Division by zero is not allowed.\n"
          ]
        }
      ]
    },
    {
      "cell_type": "markdown",
      "source": [
        "6. Write a Python program that logs an error message to a log file when a division by zero exception occurs?"
      ],
      "metadata": {
        "id": "4UYC_JYThEju"
      }
    },
    {
      "cell_type": "code",
      "source": [
        "import logging\n",
        "\n",
        "logging.basicConfig(filename='error.log', level=logging.ERROR,\n",
        "                    format='%(asctime)s - %(levelname)s - %(message)s')\n",
        "\n",
        "try:\n",
        "    numerator = 10\n",
        "    denominator = 0\n",
        "    result = numerator / denominator\n",
        "    print(\"Result:\", result)\n",
        "except ZeroDivisionError as e:\n",
        "    logging.error(\"Division by zero error occurred: %s\", e)\n",
        "    print(\"An error occurred. Check the log file for details.\")\n"
      ],
      "metadata": {
        "colab": {
          "base_uri": "https://localhost:8080/"
        },
        "id": "SH_b2CpfhDpR",
        "outputId": "a16f66af-e54e-4f95-d514-1d6d5188c49a"
      },
      "execution_count": 6,
      "outputs": [
        {
          "output_type": "stream",
          "name": "stderr",
          "text": [
            "ERROR:root:Division by zero error occurred: division by zero\n"
          ]
        },
        {
          "output_type": "stream",
          "name": "stdout",
          "text": [
            "An error occurred. Check the log file for details.\n"
          ]
        }
      ]
    },
    {
      "cell_type": "markdown",
      "source": [
        "7. How do you log information at different levels (INFO, ERROR, WARNING) in Python using the logging module?"
      ],
      "metadata": {
        "id": "W6HTyvy3hPrk"
      }
    },
    {
      "cell_type": "code",
      "source": [
        "import logging\n",
        "\n",
        "logging.basicConfig(level=logging.DEBUG, format='%(levelname)s: %(message)s')\n",
        "\n",
        "logging.debug(\"This is a debug message (for detailed internal info).\")\n",
        "logging.info(\"This is an info message (for general information).\")\n",
        "logging.warning(\"This is a warning message (something unexpected happened).\")\n",
        "logging.error(\"This is an error message (a serious problem occurred).\")\n",
        "logging.critical(\"This is a critical message (severe error, possibly stopping the program).\")\n"
      ],
      "metadata": {
        "colab": {
          "base_uri": "https://localhost:8080/"
        },
        "id": "SJan5uy2hO_y",
        "outputId": "2474cbab-cda0-4849-8c2d-b4e0cf89b7de"
      },
      "execution_count": 7,
      "outputs": [
        {
          "output_type": "stream",
          "name": "stderr",
          "text": [
            "WARNING:root:This is a warning message (something unexpected happened).\n",
            "ERROR:root:This is an error message (a serious problem occurred).\n",
            "CRITICAL:root:This is a critical message (severe error, possibly stopping the program).\n"
          ]
        }
      ]
    },
    {
      "cell_type": "markdown",
      "source": [
        "8. Write a program to handle a file opening error using exception handling?"
      ],
      "metadata": {
        "id": "njiSX3khhfhx"
      }
    },
    {
      "cell_type": "code",
      "source": [
        "try:\n",
        "    with open(\"nonexistent_file.txt\", \"r\") as file:\n",
        "        content = file.read()\n",
        "        print(content)\n",
        "except FileNotFoundError:\n",
        "    print(\"Error: The file you are trying to open does not exist.\")\n"
      ],
      "metadata": {
        "colab": {
          "base_uri": "https://localhost:8080/"
        },
        "id": "gQq8nYIEhe0V",
        "outputId": "82154c3b-fe55-4786-9635-292a605fc05b"
      },
      "execution_count": 8,
      "outputs": [
        {
          "output_type": "stream",
          "name": "stdout",
          "text": [
            "Error: The file you are trying to open does not exist.\n"
          ]
        }
      ]
    },
    {
      "cell_type": "markdown",
      "source": [
        "9. How can you read a file line by line and store its content in a list in Python?\n"
      ],
      "metadata": {
        "id": "rAbOAqRThseH"
      }
    },
    {
      "cell_type": "code",
      "source": [
        "with open(\"example.txt\", \"r\") as file:\n",
        "    lines = file.readlines()\n",
        "\n",
        "lines = [line.strip() for line in lines]\n",
        "\n",
        "print(lines)\n"
      ],
      "metadata": {
        "colab": {
          "base_uri": "https://localhost:8080/"
        },
        "id": "fXADolBHhrva",
        "outputId": "44640a4d-a826-4cab-b1b5-55b6f0b01548"
      },
      "execution_count": 9,
      "outputs": [
        {
          "output_type": "stream",
          "name": "stdout",
          "text": [
            "['Hello, this is a sample text.']\n"
          ]
        }
      ]
    },
    {
      "cell_type": "markdown",
      "source": [
        "10. How can you append data to an existing file in Python?"
      ],
      "metadata": {
        "id": "RztHNcHqh_D2"
      }
    },
    {
      "cell_type": "code",
      "source": [
        "with open(\"example.txt\", \"a\") as file:\n",
        "    file.write(\"This is a new line added to the file.\\n\")\n"
      ],
      "metadata": {
        "id": "EVBA9QEch-Wz"
      },
      "execution_count": 10,
      "outputs": []
    },
    {
      "cell_type": "markdown",
      "source": [
        "11. Write a Python program that uses a try-except block to handle an error when attempting to access a dictionary key that doesn't exist?"
      ],
      "metadata": {
        "id": "py3BI3BoiLma"
      }
    },
    {
      "cell_type": "code",
      "source": [
        "student_scores = {\n",
        "    \"Alice\": 85,\n",
        "    \"Bob\": 90,\n",
        "    \"Charlie\": 78\n",
        "}\n",
        "\n",
        "try:\n",
        "    score = student_scores[\"David\"]\n",
        "    print(\"David's score is:\", score)\n",
        "except KeyError:\n",
        "    print(\"Error: The key 'David' does not exist in the dictionary.\")\n"
      ],
      "metadata": {
        "colab": {
          "base_uri": "https://localhost:8080/"
        },
        "id": "3ZsLJoyyiKo1",
        "outputId": "2ccaec9f-8b3c-473e-8317-6fb4be7cbc03"
      },
      "execution_count": 11,
      "outputs": [
        {
          "output_type": "stream",
          "name": "stdout",
          "text": [
            "Error: The key 'David' does not exist in the dictionary.\n"
          ]
        }
      ]
    },
    {
      "cell_type": "markdown",
      "source": [
        "12. Write a program that demonstrates using multiple except blocks to handle different types of exceptions?"
      ],
      "metadata": {
        "id": "EIFUuXdAigZG"
      }
    },
    {
      "cell_type": "code",
      "source": [
        "try:\n",
        "    num1 = int(input(\"Enter numerator: \"))\n",
        "    num2 = int(input(\"Enter denominator: \"))\n",
        "    result = num1 / num2\n",
        "    print(\"Result:\", result)\n",
        "\n",
        "except ZeroDivisionError:\n",
        "    print(\"Error: Division by zero is not allowed.\")\n",
        "\n",
        "except ValueError:\n",
        "    print(\"Error: Invalid input. Please enter numeric values.\")\n",
        "\n",
        "except Exception as e:\n",
        "    print(f\"An unexpected error occurred: {e}\")\n"
      ],
      "metadata": {
        "colab": {
          "base_uri": "https://localhost:8080/"
        },
        "id": "hZpAAX2OifwY",
        "outputId": "ee488d7a-6d43-4ba3-e08d-2ee20350e5ac"
      },
      "execution_count": 12,
      "outputs": [
        {
          "output_type": "stream",
          "name": "stdout",
          "text": [
            "Enter numerator: 5\n",
            "Enter denominator: 12\n",
            "Result: 0.4166666666666667\n"
          ]
        }
      ]
    },
    {
      "cell_type": "markdown",
      "source": [
        "13.  How would you check if a file exists before attempting to read it in Python?"
      ],
      "metadata": {
        "id": "7DLdWPUli59G"
      }
    },
    {
      "cell_type": "code",
      "source": [
        "import os\n",
        "\n",
        "file_path = \"example.txt\"\n",
        "\n",
        "if os.path.exists(file_path):\n",
        "    with open(file_path, \"r\") as file:\n",
        "        content = file.read()\n",
        "        print(content)\n",
        "else:\n",
        "    print(\"Error: File does not exist.\")\n"
      ],
      "metadata": {
        "colab": {
          "base_uri": "https://localhost:8080/"
        },
        "id": "MrqCvbE-ivz5",
        "outputId": "8c3c8a9c-13f0-4960-b2c1-b863096ed09b"
      },
      "execution_count": 13,
      "outputs": [
        {
          "output_type": "stream",
          "name": "stdout",
          "text": [
            "Hello, this is a sample text.This is a new line added to the file.\n",
            "\n"
          ]
        }
      ]
    },
    {
      "cell_type": "markdown",
      "source": [
        "14. Write a program that uses the logging module to log both informational and error messages?"
      ],
      "metadata": {
        "id": "_8lBFX4tjLVW"
      }
    },
    {
      "cell_type": "code",
      "source": [
        "import logging\n",
        "logging.basicConfig(\n",
        "    filename='app.log',\n",
        "    level=logging.DEBUG,\n",
        "    format='%(asctime)s - %(levelname)s - %(message)s'\n",
        ")\n",
        "\n",
        "logging.info(\"Program started successfully.\")\n",
        "\n",
        "try:\n",
        "    num1 = 10\n",
        "    num2 = 0\n",
        "    result = num1 / num2\n",
        "    logging.info(f\"Result is {result}\")\n",
        "except ZeroDivisionError as e:\n",
        "    logging.error(f\"Error occurred: Division by zero - {e}\")\n",
        "\n",
        "logging.info(\"Program ended.\")\n"
      ],
      "metadata": {
        "colab": {
          "base_uri": "https://localhost:8080/"
        },
        "id": "-P6YbZAojKnJ",
        "outputId": "2442f075-51cf-4d0a-cda3-2372c953431c"
      },
      "execution_count": 14,
      "outputs": [
        {
          "output_type": "stream",
          "name": "stderr",
          "text": [
            "ERROR:root:Error occurred: Division by zero - division by zero\n"
          ]
        }
      ]
    },
    {
      "cell_type": "markdown",
      "source": [
        "15. Write a Python program that prints the content of a file and handles the case when the file is empty?"
      ],
      "metadata": {
        "id": "tgu1RUhkjb1e"
      }
    },
    {
      "cell_type": "code",
      "source": [
        "try:\n",
        "    with open(\"example.txt\", \"r\") as file:\n",
        "        content = file.read()\n",
        "\n",
        "        if content.strip():\n",
        "            print(\"File content:\")\n",
        "            print(content)\n",
        "        else:\n",
        "            print(\"The file is empty.\")\n",
        "except FileNotFoundError:\n",
        "    print(\"Error: The file does not exist.\")\n"
      ],
      "metadata": {
        "colab": {
          "base_uri": "https://localhost:8080/"
        },
        "id": "bwd8q72HjbDg",
        "outputId": "99ca6d3f-1e16-44d9-a538-2b668f18699a"
      },
      "execution_count": 15,
      "outputs": [
        {
          "output_type": "stream",
          "name": "stdout",
          "text": [
            "File content:\n",
            "Hello, this is a sample text.This is a new line added to the file.\n",
            "\n"
          ]
        }
      ]
    },
    {
      "cell_type": "markdown",
      "source": [
        "16. Demonstrate how to use memory profiling to check the memory usage of a small program?"
      ],
      "metadata": {
        "id": "8NlTFWvcjm_C"
      }
    },
    {
      "cell_type": "code",
      "source": [
        "from memory_profiler import profile\n",
        "\n",
        "@profile\n",
        "def create_list():\n",
        "    nums = [i for i in range(100000)]\n",
        "    return sum(nums)\n",
        "\n",
        "if __name__ == \"__main__\":\n",
        "    create_list()\n"
      ],
      "metadata": {
        "id": "J-NFpM8fj_AK"
      },
      "execution_count": null,
      "outputs": []
    },
    {
      "cell_type": "markdown",
      "source": [
        "17. Write a Python program to create and write a list of numbers to a file, one number per line?"
      ],
      "metadata": {
        "id": "UF1X2byYkMzQ"
      }
    },
    {
      "cell_type": "code",
      "source": [
        "numbers = [10, 20, 30, 40, 50]\n",
        "\n",
        "with open(\"numbers.txt\", \"w\") as file:\n",
        "    for number in numbers:\n",
        "        file.write(f\"{number}\\n\")\n",
        "\n",
        "print(\"Numbers written to numbers.txt successfully.\")\n"
      ],
      "metadata": {
        "colab": {
          "base_uri": "https://localhost:8080/"
        },
        "id": "ulEl7Lo-kYGO",
        "outputId": "7ddcf595-c75f-4b92-9ef2-c526a5d3a0bf"
      },
      "execution_count": 18,
      "outputs": [
        {
          "output_type": "stream",
          "name": "stdout",
          "text": [
            "Numbers written to numbers.txt successfully.\n"
          ]
        }
      ]
    },
    {
      "cell_type": "markdown",
      "source": [
        "18. How would you implement a basic logging setup that logs to a file with rotation after 1MB?"
      ],
      "metadata": {
        "id": "cboU1wz_kiRY"
      }
    },
    {
      "cell_type": "code",
      "source": [
        "import logging\n",
        "from logging.handlers import RotatingFileHandler\n",
        "\n",
        "log_handler = RotatingFileHandler(\n",
        "    filename='app.log',\n",
        "    mode='a',\n",
        "    maxBytes=1 * 1024 * 1024,\n",
        "    backupCount=3\n",
        ")\n",
        "\n",
        "logging.basicConfig(\n",
        "    level=logging.INFO,\n",
        "    format='%(asctime)s - %(levelname)s - %(message)s',\n",
        "    handlers=[log_handler]\n",
        ")\n",
        "\n",
        "logging.info(\"Application started.\")\n",
        "for i in range(10000):\n",
        "    logging.info(f\"Logging entry number {i}\")\n",
        "logging.info(\"Application finished.\")\n"
      ],
      "metadata": {
        "id": "zwdWY16RkhoG"
      },
      "execution_count": 20,
      "outputs": []
    },
    {
      "cell_type": "markdown",
      "source": [
        "19. Write a program that handles both IndexError and KeyError using a try-except block?"
      ],
      "metadata": {
        "id": "V8mybYjAk3b3"
      }
    },
    {
      "cell_type": "code",
      "source": [
        "my_list = [10, 20, 30]\n",
        "my_dict = {\"a\": 1, \"b\": 2}\n",
        "\n",
        "try:\n",
        "    print(\"List item:\", my_list[5])\n",
        "    print(\"Dict value:\", my_dict[\"c\"])\n",
        "\n",
        "except IndexError:\n",
        "    print(\"Error: List index is out of range.\")\n",
        "\n",
        "except KeyError:\n",
        "    print(\"Error: Dictionary key not found.\")\n"
      ],
      "metadata": {
        "colab": {
          "base_uri": "https://localhost:8080/"
        },
        "id": "PjGkn16jk1Iy",
        "outputId": "d7a1fff0-eb5f-4aae-e871-9604a80ff7a2"
      },
      "execution_count": 21,
      "outputs": [
        {
          "output_type": "stream",
          "name": "stdout",
          "text": [
            "Error: List index is out of range.\n"
          ]
        }
      ]
    },
    {
      "cell_type": "markdown",
      "source": [
        "20. How would you open a file and read its contents using a context manager in Python?"
      ],
      "metadata": {
        "id": "AR42t28olQtZ"
      }
    },
    {
      "cell_type": "code",
      "source": [
        "with open(\"example.txt\", \"r\") as file:\n",
        "    content = file.read()\n",
        "    print(content)\n"
      ],
      "metadata": {
        "colab": {
          "base_uri": "https://localhost:8080/"
        },
        "id": "v11TagQzlQDi",
        "outputId": "a7ce4922-357c-42b7-bb52-a11a4e3dd2d9"
      },
      "execution_count": 22,
      "outputs": [
        {
          "output_type": "stream",
          "name": "stdout",
          "text": [
            "Hello, this is a sample text.This is a new line added to the file.\n",
            "\n"
          ]
        }
      ]
    },
    {
      "cell_type": "markdown",
      "source": [
        "21. Write a Python program that reads a file and prints the number of occurrences of a specific word?"
      ],
      "metadata": {
        "id": "-Hzs2xjBletM"
      }
    },
    {
      "cell_type": "code",
      "source": [
        "def count_word_occurrences(file_path, target_word):\n",
        "    try:\n",
        "        with open(file_path, 'r') as file:\n",
        "            content = file.read().lower()\n",
        "            words = content.split()\n",
        "            count = words.count(target_word.lower())\n",
        "            print(f\"The word '{target_word}' occurred {count} times in the file.\")\n",
        "    except FileNotFoundError:\n",
        "        print(\"Error: The file does not exist.\")\n",
        "\n",
        "file_name = \"example.txt\"\n",
        "word_to_search = \"python\"\n",
        "count_word_occurrences(file_name, word_to_search)\n"
      ],
      "metadata": {
        "colab": {
          "base_uri": "https://localhost:8080/"
        },
        "id": "m-upCxgYldIp",
        "outputId": "b049bca0-42ad-4743-a140-e3bd62a2e6e9"
      },
      "execution_count": 23,
      "outputs": [
        {
          "output_type": "stream",
          "name": "stdout",
          "text": [
            "The word 'python' occurred 0 times in the file.\n"
          ]
        }
      ]
    },
    {
      "cell_type": "markdown",
      "source": [
        "22. How can you check if a file is empty before attempting to read its contents?"
      ],
      "metadata": {
        "id": "oH-JJ--ulter"
      }
    },
    {
      "cell_type": "code",
      "source": [
        "import os\n",
        "\n",
        "file_path = \"example.txt\"\n",
        "\n",
        "if os.path.exists(file_path) and os.stat(file_path).st_size > 0:\n",
        "    with open(file_path, \"r\") as file:\n",
        "        content = file.read()\n",
        "        print(\"File content:\\n\", content)\n",
        "else:\n",
        "    print(\"The file is empty or does not exist.\")\n"
      ],
      "metadata": {
        "colab": {
          "base_uri": "https://localhost:8080/"
        },
        "id": "-zz-lTcGlp0J",
        "outputId": "e10b810c-c826-403c-8fef-062324812230"
      },
      "execution_count": 24,
      "outputs": [
        {
          "output_type": "stream",
          "name": "stdout",
          "text": [
            "File content:\n",
            " Hello, this is a sample text.This is a new line added to the file.\n",
            "\n"
          ]
        }
      ]
    },
    {
      "cell_type": "markdown",
      "source": [
        "23. Write a Python program that writes to a log file when an error occurs during file handling?"
      ],
      "metadata": {
        "id": "3Itj2d9Wl9qv"
      }
    },
    {
      "cell_type": "code",
      "source": [
        "import logging\n",
        "logging.basicConfig(\n",
        "    filename='file_error_log.txt',\n",
        "    level=logging.ERROR,\n",
        "    format='%(asctime)s - %(levelname)s - %(message)s'\n",
        ")\n",
        "\n",
        "def read_file(file_path):\n",
        "    try:\n",
        "        with open(file_path, 'r') as file:\n",
        "            content = file.read()\n",
        "            print(content)\n",
        "    except Exception as e:\n",
        "        logging.error(f\"Error occurred while handling file '{file_path}': {e}\")\n",
        "        print(f\"An error occurred while handling the file. Please check the log for details.\")\n",
        "\n",
        "file_path = 'non_existent_file.txt'\n",
        "read_file(file_path)\n"
      ],
      "metadata": {
        "colab": {
          "base_uri": "https://localhost:8080/"
        },
        "id": "9pyEbsv5l8_T",
        "outputId": "1f5525e8-f806-41de-de83-acb1241d239f"
      },
      "execution_count": 25,
      "outputs": [
        {
          "output_type": "stream",
          "name": "stderr",
          "text": [
            "ERROR:root:Error occurred while handling file 'non_existent_file.txt': [Errno 2] No such file or directory: 'non_existent_file.txt'\n"
          ]
        },
        {
          "output_type": "stream",
          "name": "stdout",
          "text": [
            "An error occurred while handling the file. Please check the log for details.\n"
          ]
        }
      ]
    },
    {
      "cell_type": "code",
      "source": [],
      "metadata": {
        "id": "z7mqQlCrmP-f"
      },
      "execution_count": null,
      "outputs": []
    }
  ]
}